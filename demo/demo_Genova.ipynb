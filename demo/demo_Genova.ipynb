{
 "cells": [
  {
   "cell_type": "markdown",
   "metadata": {},
   "source": [
    "# Data Science Seed \\#1 - Coltivare competenze! \n",
    "https://www.meetup.com/Data-Science-Seed-Meetup-Genova/events/251410003\n",
    "\n",
    "by Stefania Delprete, TOP-IX  \n",
    "\n",
    "https://www.linkedin.com/in/astrastefania   \n",
    "https://twitter.com/astrastefania  \n",
    ".  \n",
    ".  \n",
    ".  \n",
    ".  \n",
    "\n",
    "---"
   ]
  },
  {
   "cell_type": "markdown",
   "metadata": {},
   "source": [
    "## Esploriamo open data di Genova\n",
    "\n",
    "http://dati.comune.genova.it"
   ]
  },
  {
   "cell_type": "markdown",
   "metadata": {},
   "source": [
    "#### Produzione energia da fonti rinnovabili ComGE\n",
    "http://dati.comune.genova.it/dataset/produzione-energia-da-fonti-rinnovabili-edifici-del-comune-di-genova-comge\n",
    "\n",
    "Di seguito si riporta la descrizione dei campi presenti all'interno del Dataset:  \n",
    "SETTORE: tipologia di utenza descritta. Con la dicitura 'MUNICIPALE' si indicano gli impianti installati su edifici di proprietà della Pubblica Amministrazione;  \n",
    "ID IMPIANTO: codice identificativo dell'impianto attribuito dal sistema di Gestione delle Anagrafiche Uniche Degli Impianti di produzione e delle relative unità (GAUDÌ);  \n",
    "INDIRIZZO: indirizzo identificativo dell'edificio in cui è ubicato l'impianto;  \n",
    "TIPO IMPIANTO: tipologia di impianto a fonti rinnovabili installato (solare termico, fotovoltaico, solar cooling);  \n",
    "POTENZA: Potenza di picco dell'impianto fotovoltaico installato, espresso in kW; \n",
    "SUPERFICIE: Superficie lorda dell'impianto considerato, espressa in mq;  \n",
    "ENERGIA ELETTRICA PRODOTTA: Energia elettrica annualmente prodotta dall'impianto, espressa i kWhe/anno (valore stimato);  \n",
    "ENERGIA TERMICA PRODOTTA: Energia termica annualmente  prodotta dall'impianto, espressa i kWh/anno (valore stimato).  \n"
   ]
  },
  {
   "cell_type": "code",
   "execution_count": null,
   "metadata": {},
   "outputs": [],
   "source": []
  },
  {
   "cell_type": "markdown",
   "metadata": {},
   "source": [
    "### Pandas"
   ]
  },
  {
   "cell_type": "code",
   "execution_count": 1,
   "metadata": {},
   "outputs": [],
   "source": [
    "import pandas as pd"
   ]
  },
  {
   "cell_type": "code",
   "execution_count": 2,
   "metadata": {},
   "outputs": [],
   "source": [
    "# sep = ';'\n",
    "\n",
    "rinnovabili = pd.read_csv('data/Rinnovabili_ComGE_1.csv', sep = ';')"
   ]
  },
  {
   "cell_type": "code",
   "execution_count": null,
   "metadata": {},
   "outputs": [],
   "source": []
  },
  {
   "cell_type": "code",
   "execution_count": 3,
   "metadata": {},
   "outputs": [
    {
     "data": {
      "text/html": [
       "<div>\n",
       "<style>\n",
       "    .dataframe thead tr:only-child th {\n",
       "        text-align: right;\n",
       "    }\n",
       "\n",
       "    .dataframe thead th {\n",
       "        text-align: left;\n",
       "    }\n",
       "\n",
       "    .dataframe tbody tr th {\n",
       "        vertical-align: top;\n",
       "    }\n",
       "</style>\n",
       "<table border=\"1\" class=\"dataframe\">\n",
       "  <thead>\n",
       "    <tr style=\"text-align: right;\">\n",
       "      <th></th>\n",
       "      <th>Settore</th>\n",
       "      <th>Id. Impianto</th>\n",
       "      <th>Indirizzo</th>\n",
       "      <th>Tipo di Impianto</th>\n",
       "      <th>Potenza [kW]</th>\n",
       "      <th>Superficie [mq]</th>\n",
       "      <th>Energia Elettrica Prodotta [kWh/anno]</th>\n",
       "      <th>Energia Termica Prodotta [kWh/anno]</th>\n",
       "    </tr>\n",
       "  </thead>\n",
       "  <tbody>\n",
       "    <tr>\n",
       "      <th>0</th>\n",
       "      <td>Municipale</td>\n",
       "      <td>IM_0017951</td>\n",
       "      <td>Via Serino 30</td>\n",
       "      <td>Fotovoltaico</td>\n",
       "      <td>1,8</td>\n",
       "      <td>14</td>\n",
       "      <td>1.838</td>\n",
       "      <td>NaN</td>\n",
       "    </tr>\n",
       "    <tr>\n",
       "      <th>1</th>\n",
       "      <td>Municipale</td>\n",
       "      <td>NaN</td>\n",
       "      <td>Via Pavese</td>\n",
       "      <td>Fotovoltaico</td>\n",
       "      <td>13</td>\n",
       "      <td>207</td>\n",
       "      <td>12.500</td>\n",
       "      <td>NaN</td>\n",
       "    </tr>\n",
       "    <tr>\n",
       "      <th>2</th>\n",
       "      <td>Municipale</td>\n",
       "      <td>IM_814282</td>\n",
       "      <td>Via Giulio Pastore 62</td>\n",
       "      <td>Fotovoltaico</td>\n",
       "      <td>2,1</td>\n",
       "      <td>21</td>\n",
       "      <td>2.174</td>\n",
       "      <td>NaN</td>\n",
       "    </tr>\n",
       "    <tr>\n",
       "      <th>3</th>\n",
       "      <td>Municipale</td>\n",
       "      <td>IM_0814291</td>\n",
       "      <td>Via Giulio Pastore 74</td>\n",
       "      <td>Fotovoltaico</td>\n",
       "      <td>2,1</td>\n",
       "      <td>21</td>\n",
       "      <td>2.174</td>\n",
       "      <td>NaN</td>\n",
       "    </tr>\n",
       "    <tr>\n",
       "      <th>4</th>\n",
       "      <td>Municipale</td>\n",
       "      <td>IM_0829368</td>\n",
       "      <td>Via Giulio Pastore 144</td>\n",
       "      <td>Fotovoltaico</td>\n",
       "      <td>2,1</td>\n",
       "      <td>21</td>\n",
       "      <td>2.174</td>\n",
       "      <td>NaN</td>\n",
       "    </tr>\n",
       "  </tbody>\n",
       "</table>\n",
       "</div>"
      ],
      "text/plain": [
       "      Settore Id. Impianto               Indirizzo Tipo di Impianto  \\\n",
       "0  Municipale   IM_0017951           Via Serino 30     Fotovoltaico   \n",
       "1  Municipale          NaN              Via Pavese     Fotovoltaico   \n",
       "2  Municipale    IM_814282   Via Giulio Pastore 62     Fotovoltaico   \n",
       "3  Municipale   IM_0814291   Via Giulio Pastore 74     Fotovoltaico   \n",
       "4  Municipale   IM_0829368  Via Giulio Pastore 144     Fotovoltaico   \n",
       "\n",
       "   Potenza [kW]  Superficie [mq]  Energia Elettrica Prodotta [kWh/anno]  \\\n",
       "0            1,8              14                                  1.838   \n",
       "1             13             207                                 12.500   \n",
       "2            2,1              21                                  2.174   \n",
       "3            2,1              21                                  2.174   \n",
       "4            2,1              21                                  2.174   \n",
       "\n",
       "   Energia Termica Prodotta [kWh/anno]  \n",
       "0                                  NaN  \n",
       "1                                  NaN  \n",
       "2                                  NaN  \n",
       "3                                  NaN  \n",
       "4                                  NaN  "
      ]
     },
     "execution_count": 3,
     "metadata": {},
     "output_type": "execute_result"
    }
   ],
   "source": [
    "rinnovabili.head()"
   ]
  },
  {
   "cell_type": "code",
   "execution_count": 4,
   "metadata": {},
   "outputs": [
    {
     "data": {
      "text/plain": [
       "pandas.core.frame.DataFrame"
      ]
     },
     "execution_count": 4,
     "metadata": {},
     "output_type": "execute_result"
    }
   ],
   "source": [
    "type(rinnovabili)"
   ]
  },
  {
   "cell_type": "code",
   "execution_count": null,
   "metadata": {},
   "outputs": [],
   "source": []
  },
  {
   "cell_type": "code",
   "execution_count": 5,
   "metadata": {
    "scrolled": true
   },
   "outputs": [
    {
     "name": "stdout",
     "output_type": "stream",
     "text": [
      "<class 'pandas.core.frame.DataFrame'>\n",
      "RangeIndex: 56 entries, 0 to 55\n",
      "Data columns (total 8 columns):\n",
      "Settore                                  56 non-null object\n",
      "Id. Impianto                             34 non-null object\n",
      "Indirizzo                                56 non-null object\n",
      "Tipo di Impianto                         56 non-null object\n",
      " Potenza [kW]                            41 non-null object\n",
      "Superficie [mq]                          56 non-null object\n",
      "Energia Elettrica Prodotta [kWh/anno]    41 non-null float64\n",
      "Energia Termica Prodotta [kWh/anno]      15 non-null float64\n",
      "dtypes: float64(2), object(6)\n",
      "memory usage: 3.6+ KB\n"
     ]
    }
   ],
   "source": [
    "rinnovabili.info() # notiano le diverse quantità di valori non nulli"
   ]
  },
  {
   "cell_type": "code",
   "execution_count": null,
   "metadata": {},
   "outputs": [],
   "source": []
  },
  {
   "cell_type": "code",
   "execution_count": 6,
   "metadata": {},
   "outputs": [
    {
     "data": {
      "text/plain": [
       "(56, 8)"
      ]
     },
     "execution_count": 6,
     "metadata": {},
     "output_type": "execute_result"
    }
   ],
   "source": [
    "rinnovabili.shape"
   ]
  },
  {
   "cell_type": "code",
   "execution_count": null,
   "metadata": {},
   "outputs": [],
   "source": []
  },
  {
   "cell_type": "code",
   "execution_count": 7,
   "metadata": {},
   "outputs": [
    {
     "data": {
      "text/plain": [
       "Index(['Settore', 'Id. Impianto', 'Indirizzo', 'Tipo di Impianto',\n",
       "       ' Potenza [kW] ', 'Superficie [mq]',\n",
       "       'Energia Elettrica Prodotta [kWh/anno]',\n",
       "       'Energia Termica Prodotta [kWh/anno]'],\n",
       "      dtype='object')"
      ]
     },
     "execution_count": 7,
     "metadata": {},
     "output_type": "execute_result"
    }
   ],
   "source": [
    "rinnovabili.columns # notiamo gli spazi nei nomi delle colonne"
   ]
  },
  {
   "cell_type": "code",
   "execution_count": 8,
   "metadata": {},
   "outputs": [],
   "source": [
    "rinnovabili.columns = ['settore', 'id', 'indirizzo', 'tipo', 'pot', 'sup', 'en_el', 'en_term' ]"
   ]
  },
  {
   "cell_type": "code",
   "execution_count": 9,
   "metadata": {},
   "outputs": [
    {
     "data": {
      "text/html": [
       "<div>\n",
       "<style>\n",
       "    .dataframe thead tr:only-child th {\n",
       "        text-align: right;\n",
       "    }\n",
       "\n",
       "    .dataframe thead th {\n",
       "        text-align: left;\n",
       "    }\n",
       "\n",
       "    .dataframe tbody tr th {\n",
       "        vertical-align: top;\n",
       "    }\n",
       "</style>\n",
       "<table border=\"1\" class=\"dataframe\">\n",
       "  <thead>\n",
       "    <tr style=\"text-align: right;\">\n",
       "      <th></th>\n",
       "      <th>settore</th>\n",
       "      <th>id</th>\n",
       "      <th>indirizzo</th>\n",
       "      <th>tipo</th>\n",
       "      <th>pot</th>\n",
       "      <th>sup</th>\n",
       "      <th>en_el</th>\n",
       "      <th>en_term</th>\n",
       "    </tr>\n",
       "  </thead>\n",
       "  <tbody>\n",
       "    <tr>\n",
       "      <th>0</th>\n",
       "      <td>Municipale</td>\n",
       "      <td>IM_0017951</td>\n",
       "      <td>Via Serino 30</td>\n",
       "      <td>Fotovoltaico</td>\n",
       "      <td>1,8</td>\n",
       "      <td>14</td>\n",
       "      <td>1.838</td>\n",
       "      <td>NaN</td>\n",
       "    </tr>\n",
       "    <tr>\n",
       "      <th>1</th>\n",
       "      <td>Municipale</td>\n",
       "      <td>NaN</td>\n",
       "      <td>Via Pavese</td>\n",
       "      <td>Fotovoltaico</td>\n",
       "      <td>13</td>\n",
       "      <td>207</td>\n",
       "      <td>12.500</td>\n",
       "      <td>NaN</td>\n",
       "    </tr>\n",
       "    <tr>\n",
       "      <th>2</th>\n",
       "      <td>Municipale</td>\n",
       "      <td>IM_814282</td>\n",
       "      <td>Via Giulio Pastore 62</td>\n",
       "      <td>Fotovoltaico</td>\n",
       "      <td>2,1</td>\n",
       "      <td>21</td>\n",
       "      <td>2.174</td>\n",
       "      <td>NaN</td>\n",
       "    </tr>\n",
       "    <tr>\n",
       "      <th>3</th>\n",
       "      <td>Municipale</td>\n",
       "      <td>IM_0814291</td>\n",
       "      <td>Via Giulio Pastore 74</td>\n",
       "      <td>Fotovoltaico</td>\n",
       "      <td>2,1</td>\n",
       "      <td>21</td>\n",
       "      <td>2.174</td>\n",
       "      <td>NaN</td>\n",
       "    </tr>\n",
       "    <tr>\n",
       "      <th>4</th>\n",
       "      <td>Municipale</td>\n",
       "      <td>IM_0829368</td>\n",
       "      <td>Via Giulio Pastore 144</td>\n",
       "      <td>Fotovoltaico</td>\n",
       "      <td>2,1</td>\n",
       "      <td>21</td>\n",
       "      <td>2.174</td>\n",
       "      <td>NaN</td>\n",
       "    </tr>\n",
       "  </tbody>\n",
       "</table>\n",
       "</div>"
      ],
      "text/plain": [
       "      settore          id               indirizzo          tipo  pot  sup  \\\n",
       "0  Municipale  IM_0017951           Via Serino 30  Fotovoltaico  1,8   14   \n",
       "1  Municipale         NaN              Via Pavese  Fotovoltaico   13  207   \n",
       "2  Municipale   IM_814282   Via Giulio Pastore 62  Fotovoltaico  2,1   21   \n",
       "3  Municipale  IM_0814291   Via Giulio Pastore 74  Fotovoltaico  2,1   21   \n",
       "4  Municipale  IM_0829368  Via Giulio Pastore 144  Fotovoltaico  2,1   21   \n",
       "\n",
       "    en_el  en_term  \n",
       "0   1.838      NaN  \n",
       "1  12.500      NaN  \n",
       "2   2.174      NaN  \n",
       "3   2.174      NaN  \n",
       "4   2.174      NaN  "
      ]
     },
     "execution_count": 9,
     "metadata": {},
     "output_type": "execute_result"
    }
   ],
   "source": [
    "rinnovabili.head()"
   ]
  },
  {
   "cell_type": "code",
   "execution_count": null,
   "metadata": {},
   "outputs": [],
   "source": []
  },
  {
   "cell_type": "code",
   "execution_count": 10,
   "metadata": {},
   "outputs": [
    {
     "data": {
      "text/plain": [
       "Municipale    56\n",
       "Name: settore, dtype: int64"
      ]
     },
     "execution_count": 10,
     "metadata": {},
     "output_type": "execute_result"
    }
   ],
   "source": [
    "rinnovabili['settore'].value_counts()"
   ]
  },
  {
   "cell_type": "code",
   "execution_count": 11,
   "metadata": {},
   "outputs": [
    {
     "data": {
      "text/plain": [
       "Fotovoltaico      41\n",
       "Solare Termico    14\n",
       "Solar Cooling      1\n",
       "Name: tipo, dtype: int64"
      ]
     },
     "execution_count": 11,
     "metadata": {},
     "output_type": "execute_result"
    }
   ],
   "source": [
    "rinnovabili['tipo'].value_counts()"
   ]
  },
  {
   "cell_type": "code",
   "execution_count": 12,
   "metadata": {},
   "outputs": [
    {
     "data": {
      "text/plain": [
       "array(['Fotovoltaico', 'Solare Termico', 'Solar Cooling'], dtype=object)"
      ]
     },
     "execution_count": 12,
     "metadata": {},
     "output_type": "execute_result"
    }
   ],
   "source": [
    "rinnovabili['tipo'].unique()"
   ]
  },
  {
   "cell_type": "code",
   "execution_count": 13,
   "metadata": {},
   "outputs": [
    {
     "data": {
      "text/plain": [
       "20      8\n",
       "2,1     4\n",
       "19,7    3\n",
       "19,8    2\n",
       "19,5    2\n",
       "Name: pot, dtype: int64"
      ]
     },
     "execution_count": 13,
     "metadata": {},
     "output_type": "execute_result"
    }
   ],
   "source": [
    "rinnovabili['pot'].value_counts().head() "
   ]
  },
  {
   "cell_type": "code",
   "execution_count": null,
   "metadata": {},
   "outputs": [],
   "source": []
  },
  {
   "cell_type": "code",
   "execution_count": 14,
   "metadata": {},
   "outputs": [
    {
     "data": {
      "text/html": [
       "<div>\n",
       "<style>\n",
       "    .dataframe thead tr:only-child th {\n",
       "        text-align: right;\n",
       "    }\n",
       "\n",
       "    .dataframe thead th {\n",
       "        text-align: left;\n",
       "    }\n",
       "\n",
       "    .dataframe tbody tr th {\n",
       "        vertical-align: top;\n",
       "    }\n",
       "</style>\n",
       "<table border=\"1\" class=\"dataframe\">\n",
       "  <thead>\n",
       "    <tr style=\"text-align: right;\">\n",
       "      <th></th>\n",
       "      <th>en_el</th>\n",
       "      <th>en_term</th>\n",
       "    </tr>\n",
       "  </thead>\n",
       "  <tbody>\n",
       "    <tr>\n",
       "      <th>count</th>\n",
       "      <td>41.000000</td>\n",
       "      <td>15.000000</td>\n",
       "    </tr>\n",
       "    <tr>\n",
       "      <th>mean</th>\n",
       "      <td>18.801463</td>\n",
       "      <td>66.113867</td>\n",
       "    </tr>\n",
       "    <tr>\n",
       "      <th>std</th>\n",
       "      <td>27.152256</td>\n",
       "      <td>42.528191</td>\n",
       "    </tr>\n",
       "    <tr>\n",
       "      <th>min</th>\n",
       "      <td>1.575000</td>\n",
       "      <td>11.436000</td>\n",
       "    </tr>\n",
       "    <tr>\n",
       "      <th>25%</th>\n",
       "      <td>7.244000</td>\n",
       "      <td>37.167000</td>\n",
       "    </tr>\n",
       "    <tr>\n",
       "      <th>50%</th>\n",
       "      <td>20.412000</td>\n",
       "      <td>53.368000</td>\n",
       "    </tr>\n",
       "    <tr>\n",
       "      <th>75%</th>\n",
       "      <td>21.000000</td>\n",
       "      <td>99.112000</td>\n",
       "    </tr>\n",
       "    <tr>\n",
       "      <th>max</th>\n",
       "      <td>179.550000</td>\n",
       "      <td>148.668000</td>\n",
       "    </tr>\n",
       "  </tbody>\n",
       "</table>\n",
       "</div>"
      ],
      "text/plain": [
       "            en_el     en_term\n",
       "count   41.000000   15.000000\n",
       "mean    18.801463   66.113867\n",
       "std     27.152256   42.528191\n",
       "min      1.575000   11.436000\n",
       "25%      7.244000   37.167000\n",
       "50%     20.412000   53.368000\n",
       "75%     21.000000   99.112000\n",
       "max    179.550000  148.668000"
      ]
     },
     "execution_count": 14,
     "metadata": {},
     "output_type": "execute_result"
    }
   ],
   "source": [
    "rinnovabili.describe()"
   ]
  },
  {
   "cell_type": "code",
   "execution_count": 15,
   "metadata": {},
   "outputs": [
    {
     "data": {
      "text/plain": [
       "str"
      ]
     },
     "execution_count": 15,
     "metadata": {},
     "output_type": "execute_result"
    }
   ],
   "source": [
    "type(rinnovabili['pot'][3])"
   ]
  },
  {
   "cell_type": "code",
   "execution_count": null,
   "metadata": {},
   "outputs": [],
   "source": []
  },
  {
   "cell_type": "code",
   "execution_count": null,
   "metadata": {},
   "outputs": [],
   "source": []
  },
  {
   "cell_type": "markdown",
   "metadata": {},
   "source": [
    "### Matplotlib"
   ]
  },
  {
   "cell_type": "code",
   "execution_count": 16,
   "metadata": {},
   "outputs": [],
   "source": [
    "import matplotlib.pyplot as plt"
   ]
  },
  {
   "cell_type": "code",
   "execution_count": 17,
   "metadata": {},
   "outputs": [
    {
     "data": {
      "image/png": "[encoded data removed]",
      "text/plain": [
       "<matplotlib.figure.Figure at 0x107814c50>"
      ]
     },
     "metadata": {},
     "output_type": "display_data"
    }
   ],
   "source": [
    "rinnovabili.hist()\n",
    "plt.show()"
   ]
  },
  {
   "cell_type": "code",
   "execution_count": 18,
   "metadata": {},
   "outputs": [
    {
     "data": {
      "image/png": "[encoded data removed]",
      "text/plain": [
       "<matplotlib.figure.Figure at 0x106e3a898>"
      ]
     },
     "metadata": {},
     "output_type": "display_data"
    }
   ],
   "source": [
    "rinnovabili['en_el'].plot.hist(bins=30)\n",
    "plt.show()"
   ]
  },
  {
   "cell_type": "code",
   "execution_count": null,
   "metadata": {},
   "outputs": [],
   "source": []
  },
  {
   "cell_type": "markdown",
   "metadata": {},
   "source": [
    "### Seaborn"
   ]
  },
  {
   "cell_type": "code",
   "execution_count": 19,
   "metadata": {},
   "outputs": [],
   "source": [
    "import seaborn as sns"
   ]
  },
  {
   "cell_type": "code",
   "execution_count": 20,
   "metadata": {},
   "outputs": [
    {
     "data": {
      "image/png": "[encoded data removed]",
      "text/plain": [
       "<matplotlib.figure.Figure at 0x1a09ed1828>"
      ]
     },
     "metadata": {},
     "output_type": "display_data"
    }
   ],
   "source": [
    "# Possiamo togliere i valori nulli dal nosro DataFrame\n",
    "# Di defaulf mostra la KDE (Kernel Density Estimation)\n",
    "\n",
    "sns.distplot(rinnovabili['en_el'].dropna())\n",
    "plt.show()"
   ]
  },
  {
   "cell_type": "code",
   "execution_count": 21,
   "metadata": {},
   "outputs": [],
   "source": [
    "rinnovabili_ = rinnovabili[rinnovabili['en_el'] < 50]"
   ]
  },
  {
   "cell_type": "code",
   "execution_count": 22,
   "metadata": {},
   "outputs": [
    {
     "data": {
      "image/png": "[encoded data removed]",
      "text/plain": [
       "<matplotlib.figure.Figure at 0x1a09f66128>"
      ]
     },
     "metadata": {},
     "output_type": "display_data"
    }
   ],
   "source": [
    "sns.distplot(rinnovabili_['en_el'].dropna(), bins = 10)\n",
    "plt.show()"
   ]
  },
  {
   "cell_type": "code",
   "execution_count": 23,
   "metadata": {},
   "outputs": [
    {
     "name": "stdout",
     "output_type": "stream",
     "text": [
      "Help on function distplot in module seaborn.distributions:\n",
      "\n",
      "distplot(a, bins=None, hist=True, kde=True, rug=False, fit=None, hist_kws=None, kde_kws=None, rug_kws=None, fit_kws=None, color=None, vertical=False, norm_hist=False, axlabel=None, label=None, ax=None)\n",
      "    Flexibly plot a univariate distribution of observations.\n",
      "    \n",
      "    This function combines the matplotlib ``hist`` function (with automatic\n",
      "    calculation of a good default bin size) with the seaborn :func:`kdeplot`\n",
      "    and :func:`rugplot` functions. It can also fit ``scipy.stats``\n",
      "    distributions and plot the estimated PDF over the data.\n",
      "    \n",
      "    Parameters\n",
      "    ----------\n",
      "    \n",
      "    a : Series, 1d-array, or list.\n",
      "        Observed data. If this is a Series object with a ``name`` attribute,\n",
      "        the name will be used to label the data axis.\n",
      "    bins : argument for matplotlib hist(), or None, optional\n",
      "        Specification of hist bins, or None to use Freedman-Diaconis rule.\n",
      "    hist : bool, optional\n",
      "        Whether to plot a (normed) histogram.\n",
      "    kde : bool, optional\n",
      "        Whether to plot a gaussian kernel density estimate.\n",
      "    rug : bool, optional\n",
      "        Whether to draw a rugplot on the support axis.\n",
      "    fit : random variable object, optional\n",
      "        An object with `fit` method, returning a tuple that can be passed to a\n",
      "        `pdf` method a positional arguments following an grid of values to\n",
      "        evaluate the pdf on.\n",
      "    {hist, kde, rug, fit}_kws : dictionaries, optional\n",
      "        Keyword arguments for underlying plotting functions.\n",
      "    color : matplotlib color, optional\n",
      "        Color to plot everything but the fitted curve in.\n",
      "    vertical : bool, optional\n",
      "        If True, oberved values are on y-axis.\n",
      "    norm_hist : bool, optional\n",
      "        If True, the histogram height shows a density rather than a count.\n",
      "        This is implied if a KDE or fitted density is plotted.\n",
      "    axlabel : string, False, or None, optional\n",
      "        Name for the support axis label. If None, will try to get it\n",
      "        from a.namel if False, do not set a label.\n",
      "    label : string, optional\n",
      "        Legend label for the relevent component of the plot\n",
      "    ax : matplotlib axis, optional\n",
      "        if provided, plot on this axis\n",
      "    \n",
      "    Returns\n",
      "    -------\n",
      "    ax : matplotlib Axes\n",
      "        Returns the Axes object with the plot for further tweaking.\n",
      "    \n",
      "    See Also\n",
      "    --------\n",
      "    kdeplot : Show a univariate or bivariate distribution with a kernel\n",
      "              density estimate.\n",
      "    rugplot : Draw small vertical lines to show each observation in a\n",
      "              distribution.\n",
      "    \n",
      "    Examples\n",
      "    --------\n",
      "    \n",
      "    Show a default plot with a kernel density estimate and histogram with bin\n",
      "    size determined automatically with a reference rule:\n",
      "    \n",
      "    .. plot::\n",
      "        :context: close-figs\n",
      "    \n",
      "        >>> import seaborn as sns, numpy as np\n",
      "        >>> sns.set(); np.random.seed(0)\n",
      "        >>> x = np.random.randn(100)\n",
      "        >>> ax = sns.distplot(x)\n",
      "    \n",
      "    Use Pandas objects to get an informative axis label:\n",
      "    \n",
      "    .. plot::\n",
      "        :context: close-figs\n",
      "    \n",
      "        >>> import pandas as pd\n",
      "        >>> x = pd.Series(x, name=\"x variable\")\n",
      "        >>> ax = sns.distplot(x)\n",
      "    \n",
      "    Plot the distribution with a kenel density estimate and rug plot:\n",
      "    \n",
      "    .. plot::\n",
      "        :context: close-figs\n",
      "    \n",
      "        >>> ax = sns.distplot(x, rug=True, hist=False)\n",
      "    \n",
      "    Plot the distribution with a histogram and maximum likelihood gaussian\n",
      "    distribution fit:\n",
      "    \n",
      "    .. plot::\n",
      "        :context: close-figs\n",
      "    \n",
      "        >>> from scipy.stats import norm\n",
      "        >>> ax = sns.distplot(x, fit=norm, kde=False)\n",
      "    \n",
      "    Plot the distribution on the vertical axis:\n",
      "    \n",
      "    .. plot::\n",
      "        :context: close-figs\n",
      "    \n",
      "        >>> ax = sns.distplot(x, vertical=True)\n",
      "    \n",
      "    Change the color of all the plot elements:\n",
      "    \n",
      "    .. plot::\n",
      "        :context: close-figs\n",
      "    \n",
      "        >>> sns.set_color_codes()\n",
      "        >>> ax = sns.distplot(x, color=\"y\")\n",
      "    \n",
      "    Pass specific parameters to the underlying plot functions:\n",
      "    \n",
      "    .. plot::\n",
      "        :context: close-figs\n",
      "    \n",
      "        >>> ax = sns.distplot(x, rug=True, rug_kws={\"color\": \"g\"},\n",
      "        ...                   kde_kws={\"color\": \"k\", \"lw\": 3, \"label\": \"KDE\"},\n",
      "        ...                   hist_kws={\"histtype\": \"step\", \"linewidth\": 3,\n",
      "        ...                             \"alpha\": 1, \"color\": \"g\"})\n",
      "\n"
     ]
    }
   ],
   "source": [
    "help(sns.distplot)"
   ]
  },
  {
   "cell_type": "code",
   "execution_count": 24,
   "metadata": {},
   "outputs": [
    {
     "data": {
      "image/png": "[encoded data removed]",
      "text/plain": [
       "<matplotlib.figure.Figure at 0x1a09fa1d30>"
      ]
     },
     "metadata": {},
     "output_type": "display_data"
    }
   ],
   "source": [
    "sns.distplot(rinnovabili_['en_el'], bins = 15, kde = False, rug = True, color = 'green')\n",
    "plt.show()"
   ]
  },
  {
   "cell_type": "code",
   "execution_count": null,
   "metadata": {},
   "outputs": [],
   "source": []
  },
  {
   "cell_type": "markdown",
   "metadata": {},
   "source": [
    "---"
   ]
  },
  {
   "cell_type": "markdown",
   "metadata": {},
   "source": [
    "## Free wifi\n",
    "\n",
    "http://dati.comune.genova.it/dataset/freewi-figenova"
   ]
  },
  {
   "cell_type": "code",
   "execution_count": null,
   "metadata": {},
   "outputs": [],
   "source": []
  },
  {
   "cell_type": "code",
   "execution_count": null,
   "metadata": {},
   "outputs": [],
   "source": []
  },
  {
   "cell_type": "markdown",
   "metadata": {},
   "source": [
    "Altri .csv  \n",
    "http://dati.comune.genova.it/search/field_resources%253Afield_format/csv-14/field_topic/istruzione-cultura-e-sport-28/type/dataset?sort_by=changed"
   ]
  },
  {
   "cell_type": "code",
   "execution_count": null,
   "metadata": {},
   "outputs": [],
   "source": []
  }
 ],
 "metadata": {
  "kernel_info": {
   "name": "python3"
  },
  "kernelspec": {
   "display_name": "Python 3",
   "language": "python",
   "name": "python3"
  },
  "language_info": {
   "codemirror_mode": {
    "name": "ipython",
    "version": 3
   },
   "file_extension": ".py",
   "mimetype": "text/x-python",
   "name": "python",
   "nbconvert_exporter": "python",
   "pygments_lexer": "ipython3",
   "version": "3.6.9"
  },
  "nteract": {
   "version": "0.12.3"
  }
 },
 "nbformat": 4,
 "nbformat_minor": 2
}
